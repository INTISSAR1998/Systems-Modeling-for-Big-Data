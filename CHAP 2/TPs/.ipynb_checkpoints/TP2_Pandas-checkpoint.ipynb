{
 "cells": [
  {
   "cell_type": "markdown",
   "metadata": {},
   "source": [
    "# TP2 : Pandas\n",
    "Idéalement j'aurais voulu trouver un jeu de données brutes et faire des travaux pratiques d'exploration, nettoyage et préparation de données. Mais ça aurait été laborieux dans le cadre d'un TP avec peu de temps."
   ]
  },
  {
   "cell_type": "markdown",
   "metadata": {},
   "source": [
    "## 1. Échauffement\n",
    "Une simple exploration de la liste des participants.  \n",
    "Objectif : créer un petit DataFrame à partir d'un fichier csv et faire quelques comptages et visualisations simples.\n",
    "\n",
    "Au préalable j'ai créé un jeu de données nettoyé de la liste des participants à l'EMA que l'on peut trouver là : http://ema.cri-info.cm/index.php/liste-des-participants/. C'est le fichier `../data/liste_participants_clean.csv`. C'est un très petit jeu de données sans valeurs numériques."
   ]
  },
  {
   "cell_type": "markdown",
   "metadata": {},
   "source": [
    "### 1.1 Importer les modules pandas, matplotlib.pyplot et seaborn avec les conventions habituelles de renommage"
   ]
  },
  {
   "cell_type": "code",
   "execution_count": 1,
   "metadata": {},
   "outputs": [],
   "source": [
    "# votre réponse"
   ]
  },
  {
   "cell_type": "code",
   "execution_count": 3,
   "metadata": {},
   "outputs": [],
   "source": [
    "# commade magique pour que les graphiques s'affichent dans le notebook\n",
    "%matplotlib inline"
   ]
  },
  {
   "cell_type": "markdown",
   "metadata": {},
   "source": [
    "### 1.2 Créer un DataFrame Pandas `participants` à partir du fichier `liste_participants_clean.csv`"
   ]
  },
  {
   "cell_type": "code",
   "execution_count": 4,
   "metadata": {},
   "outputs": [],
   "source": [
    "# votre réponse"
   ]
  },
  {
   "cell_type": "markdown",
   "metadata": {},
   "source": [
    "### 1.3 Affichier les premières lignes et le nombre de participants"
   ]
  },
  {
   "cell_type": "code",
   "execution_count": 6,
   "metadata": {},
   "outputs": [],
   "source": [
    "# votre réponse"
   ]
  },
  {
   "cell_type": "markdown",
   "metadata": {},
   "source": [
    "Posons-nous des questions et essayons d'y répondre en interrogeant les données avec pandas :   \n",
    "- Les participants proviennent d'universités de quels pays ? Combien de pays représentés ?  \n",
    "- Combien de participants par pays ? Faire une visualisation.  \n",
    "- Compter le nombre de d'étudiants par niveau d'étude, faire une visualisation. \n",
    "\n",
    "(_Remarques sur les bases de données et le langage de requêtes SQL_)"
   ]
  },
  {
   "cell_type": "markdown",
   "metadata": {},
   "source": [
    "### 1.4 Pays"
   ]
  },
  {
   "cell_type": "code",
   "execution_count": 8,
   "metadata": {},
   "outputs": [],
   "source": [
    "# votre réponse"
   ]
  },
  {
   "cell_type": "code",
   "execution_count": 10,
   "metadata": {},
   "outputs": [],
   "source": [
    "# visualisation, votre solution :"
   ]
  },
  {
   "cell_type": "markdown",
   "metadata": {},
   "source": [
    "### 1.5 Niveaux d'études"
   ]
  },
  {
   "cell_type": "code",
   "execution_count": 13,
   "metadata": {},
   "outputs": [],
   "source": [
    "# votre solution"
   ]
  },
  {
   "cell_type": "code",
   "execution_count": 15,
   "metadata": {},
   "outputs": [],
   "source": [
    "# visualisation, votre réponse"
   ]
  },
  {
   "cell_type": "code",
   "execution_count": 17,
   "metadata": {},
   "outputs": [],
   "source": [
    "# Posez-vous d'autres questions et essayer d'y répondre"
   ]
  },
  {
   "cell_type": "markdown",
   "metadata": {},
   "source": [
    "---\n",
    "## 2. Exercice avec le jeu de données des prénoms américains\n",
    "\n",
    "Tiré d'un example du livre _Python for Data Analysis_ de Wes McKinney (O'Reilly's).  \n",
    "Nous allons explorer le jeu de données publiques des prénoms donnés à la naissance aux USA depuis 1880 (jusqu'à 2018)  \n",
    "Le jeu de données original se trouve là : https://www.ssa.gov/oact/babynames/names.zip, mais il est déjà téléchargé et décompressé dans ce dépot et se trouve dans le répertoire `data/names/`.  "
   ]
  },
  {
   "cell_type": "markdown",
   "metadata": {},
   "source": [
    "### 2.1 Premier contact\n",
    "Avec le navigateur de fichier de votre système ou celui de Jupyter inspecter le répertoire `data/names/`, lire la documentation (fichier pdf) et ouvrir un des fichier `txt`.   \n",
    "\n",
    "À l'aide de la fonction `read_csv` de Pandas, lire le fichier `yob1880.txt` et définir la variable de type DataFrame `names1880`. Définissez les noms des colonnes par: 'name', 'gender' et 'births'.   \n",
    "Afficher les premières lignes. Vous devez obtenir :\n",
    "```\n",
    "        name gender  births\n",
    "0       Mary      F    7065\n",
    "1       Anna      F    2604\n",
    "2       Emma      F    2003\n",
    "3  Elizabeth      F    1939\n",
    "4     Minnie      F    1746\n",
    "```"
   ]
  },
  {
   "cell_type": "code",
   "execution_count": 18,
   "metadata": {},
   "outputs": [],
   "source": [
    "# votre réponse"
   ]
  },
  {
   "cell_type": "markdown",
   "metadata": {},
   "source": [
    "### 2.2 Aggrégation\n",
    "Comptez le nombre de naissances de genre masculin et féminin respectivement. Vous pouvez utiliser une solution  \"pédestre\" ou la méthode `groupby` s'appliquant au DataFrame."
   ]
  },
  {
   "cell_type": "code",
   "execution_count": 20,
   "metadata": {},
   "outputs": [],
   "source": [
    "# votre réponse"
   ]
  },
  {
   "cell_type": "markdown",
   "metadata": {},
   "source": [
    "### 2.3 Concaténation\n",
    "Jusqu'ici nous n'avons lu qu'un seul fichier correspondant aux noms de 1880. Maintenant nous voulons lire les données pour toutes les années et les regrouper dans un seul DataFrame."
   ]
  },
  {
   "cell_type": "markdown",
   "metadata": {},
   "source": [
    "#### 2.3.1 Écrire une fonction qui prend pour argument une année (int) et retourne un DataFrame des données correspondantes.\n",
    "Comme ci-dessus mais ajoutez en plus la colonne 'year' au DataFrame."
   ]
  },
  {
   "cell_type": "code",
   "execution_count": 182,
   "metadata": {},
   "outputs": [],
   "source": [
    "# votre réponse\n",
    "def load_year(year):\n",
    "    \"\"\"Retourne un DataFrame des noms avec les colonnes 'name', 'gender', 'births' et 'year'.\"\"\"\n",
    "    # complétez...\n",
    "    return "
   ]
  },
  {
   "cell_type": "markdown",
   "metadata": {},
   "source": [
    "#### 2.3.2 Construire une liste de DataFrame pour chaque année (utiliser une `list comprehension` ou une boucle ainsi que la fonction ci-dessus) puis utiliser la fonction `concat` de Pandas pour créer un seul DataFrame `names` à partir de cette liste.\n",
    "Les années sont toutes représentées de 1880 à 2018 inclus."
   ]
  },
  {
   "cell_type": "code",
   "execution_count": 110,
   "metadata": {},
   "outputs": [],
   "source": [
    "# votre réponse"
   ]
  },
  {
   "cell_type": "markdown",
   "metadata": {},
   "source": [
    "Afficher les premières lignes et le nombre de lignes. Vous devez trouver 1957046 lignes"
   ]
  },
  {
   "cell_type": "code",
   "execution_count": 37,
   "metadata": {},
   "outputs": [],
   "source": [
    "# votre solution"
   ]
  },
  {
   "cell_type": "markdown",
   "metadata": {},
   "source": [
    "#### 2.3.3 Nombre de naissances par année\n",
    "En utilisant à nouveau `groupby` faire un graphique du nombre de naissances par année. Faire une interprétation du graphique à l'aune de vos connaissances historiques."
   ]
  },
  {
   "cell_type": "code",
   "execution_count": 40,
   "metadata": {},
   "outputs": [],
   "source": [
    "# votre solution"
   ]
  },
  {
   "cell_type": "markdown",
   "metadata": {},
   "source": [
    "#### 2.3.4 Nombre de prénoms distincts donnés par année\n",
    "Faire un graphique du nombre de prénoms distincs donnés par année"
   ]
  },
  {
   "cell_type": "code",
   "execution_count": 117,
   "metadata": {},
   "outputs": [],
   "source": [
    "# votre solution"
   ]
  },
  {
   "cell_type": "markdown",
   "metadata": {},
   "source": [
    "#### 2.3.5 Évolution des noms, utilisations des tables pivot\n",
    "Certains noms ont changé de genre majoritaire. Explorons par exemple _Allison_ ou _Alison_.  \n",
    "la méthode `pivot_table` permet d'aggréger des données selon plusieurs dimensions à la fois."
   ]
  },
  {
   "cell_type": "code",
   "execution_count": 45,
   "metadata": {},
   "outputs": [],
   "source": [
    "names_to_check = ['Allison', 'Alison']"
   ]
  },
  {
   "cell_type": "markdown",
   "metadata": {},
   "source": [
    "2.3.5.1 Filtrer les lignes de `names` pour ne garder que celles correspondant à Allison ou Alison. Vous pourrez utiliser la méthode `isin`."
   ]
  },
  {
   "cell_type": "code",
   "execution_count": 41,
   "metadata": {},
   "outputs": [],
   "source": [
    "# votre solution"
   ]
  },
  {
   "cell_type": "code",
   "execution_count": 47,
   "metadata": {},
   "outputs": [
    {
     "data": {
      "text/html": [
       "<div>\n",
       "<style scoped>\n",
       "    .dataframe tbody tr th:only-of-type {\n",
       "        vertical-align: middle;\n",
       "    }\n",
       "\n",
       "    .dataframe tbody tr th {\n",
       "        vertical-align: top;\n",
       "    }\n",
       "\n",
       "    .dataframe thead th {\n",
       "        text-align: right;\n",
       "    }\n",
       "</style>\n",
       "<table border=\"1\" class=\"dataframe\">\n",
       "  <thead>\n",
       "    <tr style=\"text-align: right;\">\n",
       "      <th></th>\n",
       "      <th>name</th>\n",
       "      <th>gender</th>\n",
       "      <th>births</th>\n",
       "      <th>year</th>\n",
       "    </tr>\n",
       "  </thead>\n",
       "  <tbody>\n",
       "    <tr>\n",
       "      <th>1753</th>\n",
       "      <td>Allison</td>\n",
       "      <td>M</td>\n",
       "      <td>6</td>\n",
       "      <td>1880</td>\n",
       "    </tr>\n",
       "    <tr>\n",
       "      <th>1532</th>\n",
       "      <td>Allison</td>\n",
       "      <td>M</td>\n",
       "      <td>9</td>\n",
       "      <td>1881</td>\n",
       "    </tr>\n",
       "    <tr>\n",
       "      <th>1679</th>\n",
       "      <td>Allison</td>\n",
       "      <td>M</td>\n",
       "      <td>9</td>\n",
       "      <td>1882</td>\n",
       "    </tr>\n",
       "    <tr>\n",
       "      <th>1582</th>\n",
       "      <td>Allison</td>\n",
       "      <td>M</td>\n",
       "      <td>12</td>\n",
       "      <td>1883</td>\n",
       "    </tr>\n",
       "    <tr>\n",
       "      <th>1940</th>\n",
       "      <td>Allison</td>\n",
       "      <td>M</td>\n",
       "      <td>7</td>\n",
       "      <td>1884</td>\n",
       "    </tr>\n",
       "  </tbody>\n",
       "</table>\n",
       "</div>"
      ],
      "text/plain": [
       "         name gender  births  year\n",
       "1753  Allison      M       6  1880\n",
       "1532  Allison      M       9  1881\n",
       "1679  Allison      M       9  1882\n",
       "1582  Allison      M      12  1883\n",
       "1940  Allison      M       7  1884"
      ]
     },
     "execution_count": 47,
     "metadata": {},
     "output_type": "execute_result"
    }
   ],
   "source": [
    "births.head()"
   ]
  },
  {
   "cell_type": "markdown",
   "metadata": {},
   "source": [
    "2.3.5.2 Avec la méthode `pivot_table` construire un DataFrame comptabilisant le nombre de naissances d'Allison et Alison pour chaque années (lignes) et pour chacun des genre F et M (colonnes).   \n",
    "\n",
    "La méthode `DataFrame.pivot_table` prends les arguments suivants :\n",
    "- `values`=_nom de la colonne des valeurs à aggréger_ (le nombre de naissances),      \n",
    "- `index=`_nom de la colonne dont les valeurs serviront d'aggrégateur par ligne_ (les années de naissance),     \n",
    "- `columns=`_nom de la colonne dont les valeurs serviront d'aggrégateur par colonne_ (le genre),   \n",
    "- `aggfunc=`_nom de la fonction d'aggrégation_, \n",
    "- `fill_value`=_valeurs remplaçant les valeurs manquantes"
   ]
  },
  {
   "cell_type": "code",
   "execution_count": 48,
   "metadata": {},
   "outputs": [],
   "source": [
    "# votre solution"
   ]
  },
  {
   "cell_type": "code",
   "execution_count": 50,
   "metadata": {},
   "outputs": [
    {
     "data": {
      "text/html": [
       "<div>\n",
       "<style scoped>\n",
       "    .dataframe tbody tr th:only-of-type {\n",
       "        vertical-align: middle;\n",
       "    }\n",
       "\n",
       "    .dataframe tbody tr th {\n",
       "        vertical-align: top;\n",
       "    }\n",
       "\n",
       "    .dataframe thead th {\n",
       "        text-align: right;\n",
       "    }\n",
       "</style>\n",
       "<table border=\"1\" class=\"dataframe\">\n",
       "  <thead>\n",
       "    <tr style=\"text-align: right;\">\n",
       "      <th>gender</th>\n",
       "      <th>F</th>\n",
       "      <th>M</th>\n",
       "    </tr>\n",
       "    <tr>\n",
       "      <th>year</th>\n",
       "      <th></th>\n",
       "      <th></th>\n",
       "    </tr>\n",
       "  </thead>\n",
       "  <tbody>\n",
       "    <tr>\n",
       "      <th>1880</th>\n",
       "      <td>0</td>\n",
       "      <td>6</td>\n",
       "    </tr>\n",
       "    <tr>\n",
       "      <th>1881</th>\n",
       "      <td>0</td>\n",
       "      <td>9</td>\n",
       "    </tr>\n",
       "    <tr>\n",
       "      <th>1882</th>\n",
       "      <td>0</td>\n",
       "      <td>9</td>\n",
       "    </tr>\n",
       "    <tr>\n",
       "      <th>1883</th>\n",
       "      <td>0</td>\n",
       "      <td>12</td>\n",
       "    </tr>\n",
       "    <tr>\n",
       "      <th>1884</th>\n",
       "      <td>0</td>\n",
       "      <td>7</td>\n",
       "    </tr>\n",
       "  </tbody>\n",
       "</table>\n",
       "</div>"
      ],
      "text/plain": [
       "gender  F   M\n",
       "year         \n",
       "1880    0   6\n",
       "1881    0   9\n",
       "1882    0   9\n",
       "1883    0  12\n",
       "1884    0   7"
      ]
     },
     "execution_count": 50,
     "metadata": {},
     "output_type": "execute_result"
    }
   ],
   "source": [
    "births.head()"
   ]
  },
  {
   "cell_type": "code",
   "execution_count": 52,
   "metadata": {},
   "outputs": [],
   "source": [
    "# normalisation\n",
    "births = births.div(births.sum(axis=1), axis=0)"
   ]
  },
  {
   "cell_type": "code",
   "execution_count": 53,
   "metadata": {},
   "outputs": [
    {
     "data": {
      "text/html": [
       "<div>\n",
       "<style scoped>\n",
       "    .dataframe tbody tr th:only-of-type {\n",
       "        vertical-align: middle;\n",
       "    }\n",
       "\n",
       "    .dataframe tbody tr th {\n",
       "        vertical-align: top;\n",
       "    }\n",
       "\n",
       "    .dataframe thead th {\n",
       "        text-align: right;\n",
       "    }\n",
       "</style>\n",
       "<table border=\"1\" class=\"dataframe\">\n",
       "  <thead>\n",
       "    <tr style=\"text-align: right;\">\n",
       "      <th>gender</th>\n",
       "      <th>F</th>\n",
       "      <th>M</th>\n",
       "    </tr>\n",
       "    <tr>\n",
       "      <th>year</th>\n",
       "      <th></th>\n",
       "      <th></th>\n",
       "    </tr>\n",
       "  </thead>\n",
       "  <tbody>\n",
       "    <tr>\n",
       "      <th>1880</th>\n",
       "      <td>0.0</td>\n",
       "      <td>1.0</td>\n",
       "    </tr>\n",
       "    <tr>\n",
       "      <th>1881</th>\n",
       "      <td>0.0</td>\n",
       "      <td>1.0</td>\n",
       "    </tr>\n",
       "    <tr>\n",
       "      <th>1882</th>\n",
       "      <td>0.0</td>\n",
       "      <td>1.0</td>\n",
       "    </tr>\n",
       "    <tr>\n",
       "      <th>1883</th>\n",
       "      <td>0.0</td>\n",
       "      <td>1.0</td>\n",
       "    </tr>\n",
       "    <tr>\n",
       "      <th>1884</th>\n",
       "      <td>0.0</td>\n",
       "      <td>1.0</td>\n",
       "    </tr>\n",
       "  </tbody>\n",
       "</table>\n",
       "</div>"
      ],
      "text/plain": [
       "gender    F    M\n",
       "year            \n",
       "1880    0.0  1.0\n",
       "1881    0.0  1.0\n",
       "1882    0.0  1.0\n",
       "1883    0.0  1.0\n",
       "1884    0.0  1.0"
      ]
     },
     "execution_count": 53,
     "metadata": {},
     "output_type": "execute_result"
    }
   ],
   "source": [
    "births.head()"
   ]
  },
  {
   "cell_type": "markdown",
   "metadata": {},
   "source": [
    "2.3.5.3 Afficher un graphique de la fréquence des Allison et Alison par année et pour chacun des genres F et M"
   ]
  },
  {
   "cell_type": "code",
   "execution_count": 56,
   "metadata": {},
   "outputs": [],
   "source": [
    "# votre solution"
   ]
  },
  {
   "cell_type": "code",
   "execution_count": null,
   "metadata": {},
   "outputs": [],
   "source": []
  }
 ],
 "metadata": {
  "kernelspec": {
   "display_name": "Python [conda env:py36]",
   "language": "python",
   "name": "conda-env-py36-py"
  },
  "language_info": {
   "codemirror_mode": {
    "name": "ipython",
    "version": 3
   },
   "file_extension": ".py",
   "mimetype": "text/x-python",
   "name": "python",
   "nbconvert_exporter": "python",
   "pygments_lexer": "ipython3",
   "version": "3.6.8"
  }
 },
 "nbformat": 4,
 "nbformat_minor": 2
}
