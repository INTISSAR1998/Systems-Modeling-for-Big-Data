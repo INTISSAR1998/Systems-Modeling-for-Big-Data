{
 "cells": [
  {
   "cell_type": "markdown",
   "metadata": {},
   "source": [
    "\n",
    "# TP3 Scikit Learn : étude du classifieur à plus proches voisins (kNN)\n",
    "\n",
    "**Objectif:** Déterminer la valeur optimale du nombre de voisins *k* \n",
    "\n",
    "On reprend le code expliqué en cours. Votre objectif est d'estimer le taux d'erreur de classification sur l'ensemble de test en fonction de k.\n",
    "\n",
    "On tracera une courbe `taux_erreur = f(k)`.\n",
    "\n",
    "**Compléter le notebook à la fin (inutile de modifier les cellules du début)**"
   ]
  },
  {
   "cell_type": "code",
   "execution_count": 1,
   "metadata": {},
   "outputs": [],
   "source": [
    "# Initialisations\n",
    "%matplotlib inline\n",
    "\n",
    "import matplotlib.pyplot as plt\n",
    "import numpy as np\n",
    "import scipy\n",
    "from sklearn import datasets\n",
    "\n",
    "from sklearn.neighbors import KNeighborsClassifier"
   ]
  },
  {
   "cell_type": "code",
   "execution_count": 2,
   "metadata": {},
   "outputs": [
    {
     "name": "stdout",
     "output_type": "stream",
     "text": [
      "Données chargées, dimensions  (1797, 64)\n",
      "Classes:  (array([0, 1, 2, 3, 4, 5, 6, 7, 8, 9]), array([178, 182, 177, 183, 181, 182, 181, 179, 174, 180]))\n"
     ]
    }
   ],
   "source": [
    "# Les données: chiffres\n",
    "from sklearn.datasets import load_digits\n",
    "digits = load_digits()\n",
    "X = digits.data\n",
    "Y = digits.target\n",
    "print('Données chargées, dimensions ', digits.data.shape)\n",
    "# affiche les classes et le nombre d'exemples dans chacune\n",
    "print('Classes: ', np.unique(Y, return_counts=True)) "
   ]
  },
  {
   "cell_type": "code",
   "execution_count": 7,
   "metadata": {},
   "outputs": [
    {
     "data": {
      "image/png": "[encoded data removed]",
      "text/plain": [
       "<matplotlib.figure.Figure at 0x10a72d050>"
      ]
     },
     "metadata": {},
     "output_type": "display_data"
    }
   ],
   "source": [
    "# Affichage de quelques exemples:\n",
    "plt.figure(figsize=(20,4))\n",
    "for index, (image, label) in enumerate(zip(digits.data[0:5], digits.target[0:5])):\n",
    "    plt.subplot(1, 5, index + 1)\n",
    "    plt.imshow(np.reshape(image, (8,8)), cmap=plt.cm.gray, interpolation='none')\n",
    "    plt.title('Exemple %i\\n' % label, fontsize = 20)"
   ]
  },
  {
   "cell_type": "code",
   "execution_count": 8,
   "metadata": {},
   "outputs": [
    {
     "name": "stdout",
     "output_type": "stream",
     "text": [
      "1347 exemples en apprentissage et 450 en test.\n"
     ]
    }
   ],
   "source": [
    "# Séparation des données en ensembles d'apprentissage (X_train, Y_train) \n",
    "#  et de test (X_test, Y_test)\n",
    "\n",
    "test_size = 0.25 # proportion d'exemples utilisés pour le test\n",
    "i = int(X.shape[0] * (1-test_size))\n",
    "\n",
    "X_train = X[:i]\n",
    "Y_train = Y[:i]\n",
    "X_test = X[i:]\n",
    "Y_test = Y[i:]\n",
    "print( i, 'exemples en apprentissage et', len(Y_test), 'en test.')\n",
    "\n",
    "# Ici on prend juste le début, la fonction sklearn.model_selection.train_test_split\n",
    "# est plus intéressante (on la verra plus tard)\n"
   ]
  },
  {
   "cell_type": "code",
   "execution_count": 9,
   "metadata": {},
   "outputs": [
    {
     "data": {
      "text/plain": [
       "KNeighborsClassifier(algorithm='auto', leaf_size=30, metric='minkowski',\n",
       "           metric_params=None, n_neighbors=3, p=2, weights='uniform')"
      ]
     },
     "execution_count": 9,
     "metadata": {},
     "output_type": "execute_result"
    }
   ],
   "source": [
    "# Le modèle:\n",
    "K = 3\n",
    "\n",
    "model = KNeighborsClassifier(n_neighbors=K)\n",
    "\n",
    "# Apprentissage:\n",
    "model.fit(X_train, Y_train)"
   ]
  },
  {
   "cell_type": "code",
   "execution_count": 10,
   "metadata": {},
   "outputs": [
    {
     "name": "stdout",
     "output_type": "stream",
     "text": [
      "10 premiers exemples de test:\n",
      "Classes vraies : [3 7 3 3 4 6 6 6 4 9 1 5]\n",
      "Classes prévues: [3 7 3 3 4 6 6 6 4 9 1 5]\n",
      "Précision: 0.971111111111\n"
     ]
    }
   ],
   "source": [
    "# Test du modèle\n",
    "Y_train_pred = model.predict(X_train)\n",
    "Y_test_pred = model.predict(X_test)\n",
    "\n",
    "print('10 premiers exemples de test:')\n",
    "print('Classes vraies :', Y_test[:12])\n",
    "print('Classes prévues:', Y_test_pred[:12])\n",
    "\n",
    "# Calcul du taux d'erreur\n",
    "from sklearn import metrics\n",
    "print(\"Précision:\",metrics.accuracy_score(Y_test, Y_test_pred))"
   ]
  },
  {
   "cell_type": "code",
   "execution_count": 11,
   "metadata": {},
   "outputs": [
    {
     "name": "stdout",
     "output_type": "stream",
     "text": [
      "Erreurs sur l'ensemble de test: [ 14 206 235 258 259 264 281 311 313 315 380 418 443]\n",
      "Nombre d'erreurs: 13 Précision 97.11111111111111 %\n"
     ]
    }
   ],
   "source": [
    "errors = np.where( Y_test != Y_test_pred )[0]\n",
    "print('Erreurs sur l\\'ensemble de test:', errors)\n",
    "nb_err = len(errors)\n",
    "accuracy = (len(Y_test) - nb_err)/len(Y_test)\n",
    "print('Nombre d\\'erreurs:', nb_err, 'Précision', 100*accuracy, '%')"
   ]
  },
  {
   "cell_type": "code",
   "execution_count": 13,
   "metadata": {},
   "outputs": [
    {
     "data": {
      "image/png": "[encoded data removed]",
      "text/plain": [
       "<matplotlib.figure.Figure at 0x10a3bee50>"
      ]
     },
     "metadata": {},
     "output_type": "display_data"
    }
   ],
   "source": [
    "# Affiche les 5 premières erreurs:\n",
    "plt.figure(figsize=(20,4))\n",
    "i = 1\n",
    "for index in errors[:5]:\n",
    "    img = X_test[index]\n",
    "    label = Y_test[index]\n",
    "    plt.subplot(1, 5, i)\n",
    "    plt.imshow(np.reshape(img, (8,8)), cmap=plt.cm.gray, interpolation='none')\n",
    "    plt.title('%d (=%d)\\n' % (label, Y_test_pred[index]), fontsize = 20)\n",
    "    i += 1"
   ]
  },
  {
   "cell_type": "code",
   "execution_count": 14,
   "metadata": {},
   "outputs": [],
   "source": [
    "# Erreur en fonction de k\n",
    "\n",
    "# A vous de jouer !\n"
   ]
  },
  {
   "cell_type": "code",
   "execution_count": 30,
   "metadata": {},
   "outputs": [
    {
     "data": {
      "image/png": "[encoded data removed]",
      "text/plain": [
       "<Figure size 432x288 with 1 Axes>"
      ]
     },
     "metadata": {
      "needs_background": "light"
     },
     "output_type": "display_data"
    }
   ],
   "source": [
    "# Graphique montrant l'erreur en fonction de k"
   ]
  },
  {
   "cell_type": "code",
   "execution_count": null,
   "metadata": {},
   "outputs": [],
   "source": []
  }
 ],
 "metadata": {
  "kernelspec": {
   "display_name": "Python 3",
   "language": "python",
   "name": "python3"
  },
  "language_info": {
   "codemirror_mode": {
    "name": "ipython",
    "version": 3
   },
   "file_extension": ".py",
   "mimetype": "text/x-python",
   "name": "python",
   "nbconvert_exporter": "python",
   "pygments_lexer": "ipython3",
   "version": "3.3.5"
  }
 },
 "nbformat": 4,
 "nbformat_minor": 2
}
